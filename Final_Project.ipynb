{
  "nbformat": 4,
  "nbformat_minor": 0,
  "metadata": {
    "colab": {
      "name": "Final Project.ipynb",
      "provenance": [],
      "collapsed_sections": []
    },
    "kernelspec": {
      "name": "python3",
      "display_name": "Python 3"
    },
    "accelerator": "GPU"
  },
  "cells": [
    {
      "cell_type": "code",
      "metadata": {
        "id": "S5uLzTyAVbr4",
        "colab_type": "code",
        "outputId": "f5d67ef6-2014-498f-d5ac-6b9b7cd96e51",
        "colab": {
          "base_uri": "https://localhost:8080/",
          "height": 131
        }
      },
      "source": [
        "from keras.datasets import imdb\n",
        "top_words = 10000\n",
        "(x_train, y_train), (x_test, y_test) = imdb.load_data(path=\"imdb.npz\",\n",
        "                                                      num_words=top_words,\n",
        "                                                      skip_top=0,\n",
        "                                                      maxlen=None,\n",
        "                                                      seed=420,\n",
        "                                                      start_char=1,\n",
        "                                                      oov_char=2,\n",
        "                                                      index_from=3)\n",
        "\n",
        "print(len(y_train), len(y_test))"
      ],
      "execution_count": 0,
      "outputs": [
        {
          "output_type": "stream",
          "text": [
            "Using TensorFlow backend.\n"
          ],
          "name": "stderr"
        },
        {
          "output_type": "display_data",
          "data": {
            "text/html": [
              "<p style=\"color: red;\">\n",
              "The default version of TensorFlow in Colab will soon switch to TensorFlow 2.x.<br>\n",
              "We recommend you <a href=\"https://www.tensorflow.org/guide/migrate\" target=\"_blank\">upgrade</a> now \n",
              "or ensure your notebook will continue to use TensorFlow 1.x via the <code>%tensorflow_version 1.x</code> magic:\n",
              "<a href=\"https://colab.research.google.com/notebooks/tensorflow_version.ipynb\" target=\"_blank\">more info</a>.</p>\n"
            ],
            "text/plain": [
              "<IPython.core.display.HTML object>"
            ]
          },
          "metadata": {
            "tags": []
          }
        },
        {
          "output_type": "stream",
          "text": [
            "Downloading data from https://s3.amazonaws.com/text-datasets/imdb.npz\n",
            "17465344/17464789 [==============================] - 0s 0us/step\n",
            "25000 25000\n"
          ],
          "name": "stdout"
        }
      ]
    },
    {
      "cell_type": "code",
      "metadata": {
        "id": "MLCadX_eutWF",
        "colab_type": "code",
        "outputId": "09344dee-7b4f-4afb-d902-37e052f65f86",
        "colab": {
          "base_uri": "https://localhost:8080/",
          "height": 1000
        }
      },
      "source": [
        "word_id = imdb.get_word_index()\n",
        "word_id = {k:(v+3) for k,v in word_id.items()}\n",
        "word_id[\"PADDING\"] = 0\n",
        "word_id[\"BEGIN\"] = 1\n",
        "word_id[\"UNKNOWN\"] = 2\n",
        "word_id[\"UNUSED\"] = 3\n",
        "\n",
        "id_word = {value:key for key,value in word_id.items()}\n",
        "reviews = []\n",
        "test_r = []\n",
        "for x in x_train:\n",
        "  reviews.append(' '.join(id_word[id] for id in x))\n",
        "for x in x_test:\n",
        "  test_r.append(' '.join(id_word[id] for id in x))\n",
        "\n",
        "x_test[66]"
      ],
      "execution_count": 0,
      "outputs": [
        {
          "output_type": "stream",
          "text": [
            "Downloading data from https://s3.amazonaws.com/text-datasets/imdb_word_index.json\n",
            "1646592/1641221 [==============================] - 0s 0us/step\n"
          ],
          "name": "stdout"
        },
        {
          "output_type": "execute_result",
          "data": {
            "text/plain": [
              "[1,\n",
              " 1713,\n",
              " 28,\n",
              " 13,\n",
              " 110,\n",
              " 35,\n",
              " 206,\n",
              " 836,\n",
              " 20,\n",
              " 15,\n",
              " 16,\n",
              " 38,\n",
              " 357,\n",
              " 600,\n",
              " 7,\n",
              " 4,\n",
              " 206,\n",
              " 139,\n",
              " 26,\n",
              " 1127,\n",
              " 4,\n",
              " 65,\n",
              " 347,\n",
              " 9,\n",
              " 164,\n",
              " 318,\n",
              " 5,\n",
              " 549,\n",
              " 18,\n",
              " 6,\n",
              " 378,\n",
              " 7,\n",
              " 156,\n",
              " 4,\n",
              " 116,\n",
              " 9,\n",
              " 78,\n",
              " 1441,\n",
              " 7283,\n",
              " 9311,\n",
              " 678,\n",
              " 2756,\n",
              " 381,\n",
              " 17,\n",
              " 4,\n",
              " 428,\n",
              " 313,\n",
              " 2297,\n",
              " 7,\n",
              " 4005,\n",
              " 37,\n",
              " 214,\n",
              " 309,\n",
              " 11,\n",
              " 4,\n",
              " 655,\n",
              " 7,\n",
              " 6,\n",
              " 3573,\n",
              " 15,\n",
              " 494,\n",
              " 90,\n",
              " 5,\n",
              " 53,\n",
              " 84,\n",
              " 351,\n",
              " 2597,\n",
              " 3294,\n",
              " 6,\n",
              " 58,\n",
              " 8,\n",
              " 516,\n",
              " 2917,\n",
              " 299,\n",
              " 6,\n",
              " 464,\n",
              " 37,\n",
              " 29,\n",
              " 716,\n",
              " 285,\n",
              " 29,\n",
              " 70,\n",
              " 5,\n",
              " 4220,\n",
              " 4367,\n",
              " 4220,\n",
              " 4367,\n",
              " 6369,\n",
              " 2,\n",
              " 5113,\n",
              " 299,\n",
              " 6,\n",
              " 2422,\n",
              " 37,\n",
              " 214,\n",
              " 574,\n",
              " 11,\n",
              " 4,\n",
              " 904,\n",
              " 1441,\n",
              " 7283,\n",
              " 9,\n",
              " 608,\n",
              " 17,\n",
              " 4,\n",
              " 323,\n",
              " 2597,\n",
              " 3294,\n",
              " 9,\n",
              " 6,\n",
              " 52,\n",
              " 284,\n",
              " 37,\n",
              " 408,\n",
              " 6,\n",
              " 52,\n",
              " 239,\n",
              " 4220,\n",
              " 4367,\n",
              " 408,\n",
              " 6,\n",
              " 338,\n",
              " 239,\n",
              " 19,\n",
              " 6,\n",
              " 78,\n",
              " 20,\n",
              " 13,\n",
              " 70,\n",
              " 165,\n",
              " 40,\n",
              " 12,\n",
              " 48,\n",
              " 12,\n",
              " 47,\n",
              " 6,\n",
              " 52,\n",
              " 277,\n",
              " 21,\n",
              " 14,\n",
              " 20,\n",
              " 47,\n",
              " 6,\n",
              " 55,\n",
              " 954,\n",
              " 277,\n",
              " 19,\n",
              " 49,\n",
              " 220,\n",
              " 1322,\n",
              " 538]"
            ]
          },
          "metadata": {
            "tags": []
          },
          "execution_count": 2
        }
      ]
    },
    {
      "cell_type": "markdown",
      "metadata": {
        "id": "0Xr-ufVswZHw",
        "colab_type": "text"
      },
      "source": [
        "##Method 1:"
      ]
    },
    {
      "cell_type": "code",
      "metadata": {
        "id": "D1m-Ju1nwa23",
        "colab_type": "code",
        "colab": {}
      },
      "source": [
        "import pandas as pd\n",
        "import numpy as np\n",
        "import re\n",
        "import time\n",
        "def cleanup(review):\n",
        "  ignore = ['PADDING', 'BEGIN', 'UNKNOWN', 'UNUSED','i','me','my','myself','we','our','ours','ourselves','you',\"you're\",\n",
        "   \"you've\",\"you'll\",'your','he','him','his','himself','she','her',\n",
        "   'hers','herself','it',\"it's\",'its','itself','they','them','their','theirs',\n",
        "   'what','which','who','this','that',\"that'll\",'these','those','am',\n",
        "   'is','are','was','were','be','been','being','have','has','had','having',\n",
        "   'do','does','did','doing','a','an','the','and','but','if','or','because',\n",
        "   'as','until','while','of','at','by','for','with','about','against',\n",
        "   'during','before','after','to','from','again','here','there', 'on',\n",
        "   'when','where','why','how','all','any','no','only','own','same','too',\n",
        "   'very','can','will','just','now',\"didn't\",\"haven't\",\"isn't\",\"wasn't\",'·','', '>']\n",
        "  \n",
        "  words = re.sub(\"[^\\w]\", \" \",  review).split()\n",
        "  # cleaned = []\n",
        "  # for word in words:\n",
        "  #   if word.lower() not in ignore:\n",
        "  #     cleaned.append(word.lower())\n",
        "      \n",
        "  cleaned = [w.lower() for w in words if w.lower() not in ignore and w not in ignore]\n",
        "  return cleaned"
      ],
      "execution_count": 0,
      "outputs": []
    },
    {
      "cell_type": "code",
      "metadata": {
        "id": "AKqCZkDrjXVJ",
        "colab_type": "code",
        "outputId": "ebee39e2-0b5e-41cb-fe62-859f9753c374",
        "colab": {
          "base_uri": "https://localhost:8080/",
          "height": 369
        }
      },
      "source": [
        "start = time.time()\n",
        "constant = np.log(np.sum(np.where(np.array(y_train)==0))/np.sum(np.where(np.array(y_train)==1)))\n",
        "\n",
        "pofx = {}\n",
        "print(cleanup(test_r[20]))\n",
        "for(ix, review) in enumerate(reviews):\n",
        "  words = cleanup(review)\n",
        "  for word in words:\n",
        "    if word not in pofx:\n",
        "      counts = [0, 0]\n",
        "      counts[y_train[ix]] = 1\n",
        "      pofx[word] = counts\n",
        "    else:\n",
        "      pofx[word][y_train[ix]] += 1\n",
        "\n",
        "#play with the .000001\n",
        "pofx = {i:[pofx[i][0]/np.sum(pofx[i])+ 0.0000001 , pofx[i][1]/np.sum(pofx[i])+ 0.0000001 ]for i in pofx}\n",
        "\n",
        "tables = [[i, np.log(pofx[i][0]/pofx[i][1])] for i in pofx]\n",
        "\n",
        "tabs = {i[0]:i[1] for i in tables}\n",
        "\n",
        "# Evaluation\n",
        "correct = 0\n",
        "correct2 = 0\n",
        "t1 = 0\n",
        "t2 = 0\n",
        "\n",
        "for (ix, review) in enumerate(test_r):\n",
        "  words = cleanup(review)\n",
        "  ratio = constant\n",
        "  for word in words:\n",
        "    if word in tabs:\n",
        "      ratio += tabs[word]\n",
        "  if(ratio<0):\n",
        "    guess = 1\n",
        "  else:\n",
        "    guess = 0\n",
        "  if(guess==y_test[ix] and guess == 1):\n",
        "    correct += 1\n",
        "  elif(guess==y_test[ix] and guess == 0):\n",
        "    correct2 += 1\n",
        "  else:\n",
        "    if(guess==1 and y_test[ix]==0):\n",
        "      t1+=1\n",
        "    else:\n",
        "      t2+=1\n",
        "print(\"Time taken: \", time.time() - start)      \n",
        "print(\"Correct classification (percentage):\", (correct + correct2)/np.size(y_test))\n",
        "print(\"Type 1:\", t1/np.size(y_test))\n",
        "print(\"Type 2:\", t2/np.size(y_test))\n",
        "\n",
        "confusion = np.zeros((2, 2))\n",
        "confusion[0, 0] = correct/np.size(y_test)\n",
        "confusion[1, 1] = correct2/np.size(y_test)\n",
        "confusion[1, 0] = t2/np.size(y_test)\n",
        "confusion[0, 1] = t1/np.size(y_test)\n",
        "\n",
        "import matplotlib.pyplot as plt\n",
        "\n",
        "plt.imshow(confusion)\n",
        "plt.colorbar()\n",
        "plt.axis('off')\n",
        "plt.title('Naive Bayes Confusion Matrix')\n",
        "plt.savefig('bayesConfMat.png')"
      ],
      "execution_count": 0,
      "outputs": [
        {
          "output_type": "stream",
          "text": [
            "['well', 've', 'read', 'book', 'first', 'thought', 'wow', 'would', 'cool', 'see', 'in', 'movie', 'than', 'started', 'searching', 'found', 'already', 'movie', 'made', 'bought', 'movie', 'week', 'ago', 'dvd', 'watched', 'awfully', 'wrong', 'first', 'kid', 'isn', 't', 'character', 'in', 'book', 'then', 'mix', 'between', 'two', 'books', 'river', 'seventh', 'than', 'nicolas', 'needing', 'in', 'book', 'actually', 'whole', 'thing', 'wrong', 'also', 'supposed', 'invented', 'lightweight', 'whole', 'thing', 'tomb', 'also', 'wrong', 'supposed', 'channel', 'some', 'kind', 'around', 'tomb', 'made', 'in', 'possibility', 'pass', 'one', 'knows', 'rules', 'ancient', 'game', 'nothing', 'in', 'movie', 'nicolas', 'english', 'christian', 'in', 'book', 'not', 'muslim', 'list', 'endless', 'few', 'things', 'good', 'movie', 'actors', 'played', 'boris', 'mick', 'well', 'chosen', 'rest', 'parodies', 'characters', 'in', 'book', 'worst', 'didn', 't', 'get', 'even', 'close', 'character', 'in', 'head', 'wrote', 'book', 'such', 'shame', 'such', 'great', 'book', 'in', 'such', 'bad', 'wonder', 'smith', 'ever', 'gave']\n",
            "Time taken:  20.610454320907593\n",
            "Correct classification (percentage): 0.83704\n",
            "Type 1: 0.07872\n",
            "Type 2: 0.08424\n"
          ],
          "name": "stdout"
        },
        {
          "output_type": "display_data",
          "data": {
            "image/png": "[encoded data removed]",
            "text/plain": [
              "<Figure size 432x288 with 2 Axes>"
            ]
          },
          "metadata": {
            "tags": []
          }
        }
      ]
    },
    {
      "cell_type": "markdown",
      "metadata": {
        "id": "FgAd0MTF4OQE",
        "colab_type": "text"
      },
      "source": [
        "##Method 2:\n"
      ]
    },
    {
      "cell_type": "code",
      "metadata": {
        "id": "BzI809X4BCm7",
        "colab_type": "code",
        "outputId": "f1f20498-a04c-4665-9206-016d16082131",
        "colab": {
          "base_uri": "https://localhost:8080/",
          "height": 1000
        }
      },
      "source": [
        "from keras.models import Sequential\n",
        "from keras.layers import Dense\n",
        "from keras.layers import Flatten\n",
        "from keras.layers.embeddings import Embedding\n",
        "from keras.preprocessing import sequence\n",
        "start = time.time()\n",
        "max_words = 5000\n",
        "X_train = sequence.pad_sequences(x_train, maxlen=max_words)\n",
        "X_test = sequence.pad_sequences(x_test, maxlen=max_words)\n",
        "\n",
        "model = Sequential()\n",
        "model.add(Embedding(top_words, 32, input_length=max_words))\n",
        "model.add(Flatten())\n",
        "model.add(Dense(250, activation='relu'))\n",
        "model.add(Dense(1, activation='sigmoid'))\n",
        "model.compile(loss='binary_crossentropy', optimizer='adam', metrics=['accuracy'])\n",
        "model.summary()\n",
        "\n",
        "# Fit the model\n",
        "model.fit(X_train, y_train, validation_data=(X_test, y_test), epochs=2, batch_size=128, verbose=2)\n",
        "\n",
        "# Final evaluation of the model\n",
        "scores = model.evaluate(X_test, y_test, verbose=0)\n",
        "print(\"Accuracy: %.2f%%\" % (scores[1]*100))\n",
        "print(\"Time take: \", time.time() - start)\n",
        "y_pred = model.predict(X_test)\n",
        "\n",
        "from sklearn.metrics import accuracy_score, confusion_matrix\n",
        "\n",
        "# get confusion matrix\n",
        "cm = confusion_matrix(y_test, y_pred.round()) / y_test.size\n",
        "\n",
        "import matplotlib.pyplot as plt\n",
        "\n",
        "plt.imshow(cm);\n",
        "plt.colorbar()\n",
        "plt.axis('off')\n",
        "plt.title('Keras Confusion Matrix')\n",
        "plt.savefig('kerasConfMat.png')"
      ],
      "execution_count": 0,
      "outputs": [
        {
          "output_type": "stream",
          "text": [
            "WARNING:tensorflow:From /usr/local/lib/python3.6/dist-packages/keras/backend/tensorflow_backend.py:66: The name tf.get_default_graph is deprecated. Please use tf.compat.v1.get_default_graph instead.\n",
            "\n",
            "WARNING:tensorflow:From /usr/local/lib/python3.6/dist-packages/keras/backend/tensorflow_backend.py:541: The name tf.placeholder is deprecated. Please use tf.compat.v1.placeholder instead.\n",
            "\n",
            "WARNING:tensorflow:From /usr/local/lib/python3.6/dist-packages/keras/backend/tensorflow_backend.py:4432: The name tf.random_uniform is deprecated. Please use tf.random.uniform instead.\n",
            "\n",
            "WARNING:tensorflow:From /usr/local/lib/python3.6/dist-packages/keras/optimizers.py:793: The name tf.train.Optimizer is deprecated. Please use tf.compat.v1.train.Optimizer instead.\n",
            "\n",
            "WARNING:tensorflow:From /usr/local/lib/python3.6/dist-packages/keras/backend/tensorflow_backend.py:3657: The name tf.log is deprecated. Please use tf.math.log instead.\n",
            "\n",
            "WARNING:tensorflow:From /usr/local/lib/python3.6/dist-packages/tensorflow_core/python/ops/nn_impl.py:183: where (from tensorflow.python.ops.array_ops) is deprecated and will be removed in a future version.\n",
            "Instructions for updating:\n",
            "Use tf.where in 2.0, which has the same broadcast rule as np.where\n",
            "Model: \"sequential_1\"\n",
            "_________________________________________________________________\n",
            "Layer (type)                 Output Shape              Param #   \n",
            "=================================================================\n",
            "embedding_1 (Embedding)      (None, 5000, 32)          320000    \n",
            "_________________________________________________________________\n",
            "flatten_1 (Flatten)          (None, 160000)            0         \n",
            "_________________________________________________________________\n",
            "dense_1 (Dense)              (None, 250)               40000250  \n",
            "_________________________________________________________________\n",
            "dense_2 (Dense)              (None, 1)                 251       \n",
            "=================================================================\n",
            "Total params: 40,320,501\n",
            "Trainable params: 40,320,501\n",
            "Non-trainable params: 0\n",
            "_________________________________________________________________\n",
            "WARNING:tensorflow:From /usr/local/lib/python3.6/dist-packages/keras/backend/tensorflow_backend.py:1033: The name tf.assign_add is deprecated. Please use tf.compat.v1.assign_add instead.\n",
            "\n",
            "WARNING:tensorflow:From /usr/local/lib/python3.6/dist-packages/keras/backend/tensorflow_backend.py:1020: The name tf.assign is deprecated. Please use tf.compat.v1.assign instead.\n",
            "\n",
            "WARNING:tensorflow:From /usr/local/lib/python3.6/dist-packages/keras/backend/tensorflow_backend.py:3005: The name tf.Session is deprecated. Please use tf.compat.v1.Session instead.\n",
            "\n",
            "Train on 25000 samples, validate on 25000 samples\n",
            "Epoch 1/2\n",
            "WARNING:tensorflow:From /usr/local/lib/python3.6/dist-packages/keras/backend/tensorflow_backend.py:190: The name tf.get_default_session is deprecated. Please use tf.compat.v1.get_default_session instead.\n",
            "\n",
            "WARNING:tensorflow:From /usr/local/lib/python3.6/dist-packages/keras/backend/tensorflow_backend.py:197: The name tf.ConfigProto is deprecated. Please use tf.compat.v1.ConfigProto instead.\n",
            "\n",
            "WARNING:tensorflow:From /usr/local/lib/python3.6/dist-packages/keras/backend/tensorflow_backend.py:207: The name tf.global_variables is deprecated. Please use tf.compat.v1.global_variables instead.\n",
            "\n",
            "WARNING:tensorflow:From /usr/local/lib/python3.6/dist-packages/keras/backend/tensorflow_backend.py:216: The name tf.is_variable_initialized is deprecated. Please use tf.compat.v1.is_variable_initialized instead.\n",
            "\n",
            "WARNING:tensorflow:From /usr/local/lib/python3.6/dist-packages/keras/backend/tensorflow_backend.py:223: The name tf.variables_initializer is deprecated. Please use tf.compat.v1.variables_initializer instead.\n",
            "\n",
            " - 22s - loss: 0.6388 - acc: 0.7307 - val_loss: 0.2953 - val_acc: 0.8766\n",
            "Epoch 2/2\n",
            " - 17s - loss: 0.2065 - acc: 0.9214 - val_loss: 0.2756 - val_acc: 0.8854\n",
            "Accuracy: 88.54%\n",
            "Time take:  45.679150104522705\n"
          ],
          "name": "stdout"
        },
        {
          "output_type": "display_data",
          "data": {
            "image/png": "[encoded data removed]",
            "text/plain": [
              "<Figure size 432x288 with 2 Axes>"
            ]
          },
          "metadata": {
            "tags": []
          }
        }
      ]
    }
  ]
}